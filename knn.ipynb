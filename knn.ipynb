{
 "nbformat": 4,
 "nbformat_minor": 2,
 "metadata": {
  "language_info": {
   "name": "python",
   "codemirror_mode": {
    "name": "ipython",
    "version": 3
   }
  },
  "orig_nbformat": 2,
  "file_extension": ".py",
  "mimetype": "text/x-python",
  "name": "python",
  "npconvert_exporter": "python",
  "pygments_lexer": "ipython3",
  "version": 3
 },
 "cells": [
  {
   "cell_type": "code",
   "execution_count": null,
   "metadata": {},
   "outputs": [],
   "source": [
    "import numpy as np\n",
    "from statistics import mode\n",
    "\n",
    "class KNN :\n",
    "    # Constructor\n",
    "    def __init__(self, training_images, training_labels, k_value) :\n",
    "        self.training_images = training_images\n",
    "        self.training_labels = training_labels\n",
    "        self.k_value = k_value\n",
    "\n",
    "    def euclidDist(self, matA, matB) :\n",
    "        # Numpy Matrix or Matrices with same sizes as input\n",
    "        dist = np.sqrt(np.sum((np.subtract(matA, matB))**2, axis=1))\n",
    "        return dist\n",
    "    \n",
    "    def predict(self, test_images) :\n",
    "        test_labels = []\n",
    "        for test_image in test_images :\n",
    "            distances = self.euclidDist(test_image, self.training_images)\n",
    "            dist_sort = np.argsort(distances)\n",
    "            test_labels.append(mode(self.training_labels[dist_sort[:self.k_value:1]]))\n",
    "            \n",
    "        return test_labels"
   ]
  }
 ]
}